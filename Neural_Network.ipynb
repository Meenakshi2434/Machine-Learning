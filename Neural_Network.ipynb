{
  "nbformat": 4,
  "nbformat_minor": 0,
  "metadata": {
    "colab": {
      "provenance": [],
      "authorship_tag": "ABX9TyOE3PXz7NiwAL7uY7wq8Koy",
      "include_colab_link": true
    },
    "kernelspec": {
      "name": "python3",
      "display_name": "Python 3"
    },
    "language_info": {
      "name": "python"
    }
  },
  "cells": [
    {
      "cell_type": "markdown",
      "metadata": {
        "id": "view-in-github",
        "colab_type": "text"
      },
      "source": [
        "<a href=\"https://colab.research.google.com/github/Meenakshi2434/Machine-Learning/blob/main/Neural_Network.ipynb\" target=\"_parent\"><img src=\"https://colab.research.google.com/assets/colab-badge.svg\" alt=\"Open In Colab\"/></a>"
      ]
    },
    {
      "cell_type": "code",
      "execution_count": 1,
      "metadata": {
        "id": "EdCvdizS30_P"
      },
      "outputs": [],
      "source": [
        "import numpy as np"
      ]
    },
    {
      "cell_type": "code",
      "source": [
        "#assign inputvalues\n",
        "input_value = np.array([[0,0],[0,1], [1,1],[1,0]])\n",
        "input_value.shape\n",
        "input_value"
      ],
      "metadata": {
        "colab": {
          "base_uri": "https://localhost:8080/"
        },
        "id": "Lpagx8244DB0",
        "outputId": "79f21a5e-71cb-4c5c-edd9-ae12b9833864"
      },
      "execution_count": 2,
      "outputs": [
        {
          "output_type": "execute_result",
          "data": {
            "text/plain": [
              "array([[0, 0],\n",
              "       [0, 1],\n",
              "       [1, 1],\n",
              "       [1, 0]])"
            ]
          },
          "metadata": {},
          "execution_count": 2
        }
      ]
    },
    {
      "cell_type": "code",
      "source": [
        "#assign outputvalues\n",
        "output = np.array([0,1,1,0])\n",
        "output = output.reshape(4,1)\n",
        "output.shape"
      ],
      "metadata": {
        "colab": {
          "base_uri": "https://localhost:8080/"
        },
        "id": "M6qVm-f74XuV",
        "outputId": "dad2ba21-c7ec-4811-f020-58f68f4eb0e4"
      },
      "execution_count": 4,
      "outputs": [
        {
          "output_type": "execute_result",
          "data": {
            "text/plain": [
              "(4, 1)"
            ]
          },
          "metadata": {},
          "execution_count": 4
        }
      ]
    },
    {
      "cell_type": "code",
      "source": [
        "#assign weights\n",
        "weights = np.array([[0,1],[0,2]])\n",
        "weights"
      ],
      "metadata": {
        "colab": {
          "base_uri": "https://localhost:8080/"
        },
        "id": "OVOb6nB94nP4",
        "outputId": "545b12ef-bdd5-4cce-fe70-40bd3391dae3"
      },
      "execution_count": 5,
      "outputs": [
        {
          "output_type": "execute_result",
          "data": {
            "text/plain": [
              "array([[0, 1],\n",
              "       [0, 2]])"
            ]
          },
          "metadata": {},
          "execution_count": 5
        }
      ]
    },
    {
      "cell_type": "code",
      "source": [
        " #add bias\n",
        " bias = 0.3"
      ],
      "metadata": {
        "id": "7In65aff43Db"
      },
      "execution_count": 6,
      "outputs": []
    },
    {
      "cell_type": "code",
      "source": [
        "#activation function\n",
        "def sigmoid_func(x):\n",
        "  return 1/(1 + np.exp(-x))"
      ],
      "metadata": {
        "id": "0PtNTM3I5DMA"
      },
      "execution_count": 10,
      "outputs": []
    },
    {
      "cell_type": "code",
      "source": [
        "#derivative ofsigmoid function\n",
        "def der(x):\n",
        "  return sigmoid_func(x) * (1- sigmoid_func(x))"
      ],
      "metadata": {
        "id": "2MTdPOds5cWY"
      },
      "execution_count": 8,
      "outputs": []
    },
    {
      "cell_type": "code",
      "source": [
        "#updating weights\n",
        "for epochs in range(10000):\n",
        "  input_arr = input_value\n",
        "  weighted_sum = np.dot(input_arr, weights) + bias\n",
        "  first_output = sigmoid_func(weighted_sum)\n",
        "\n",
        "  error = first_output - output\n",
        "  total_error = np.square(np.subtract(first_output, output)).mean()\n",
        "  #print(total_error)\n",
        "\n",
        "  first_der = error\n",
        "  second_der = der(first_output)\n",
        "  derivative = first_der * second_der\n",
        "  t_input = input_value.T\n",
        "  final_derivative = np.dot(t_input, derivative)\n",
        "\n",
        "  #update weights\n",
        "  weights = weights - 0.05 * final_derivative\n",
        "  #update bias\n",
        "  for i in derivative:\n",
        "    bias = bias - 0.05 * i\n",
        "\n",
        "print(weights)\n",
        "print(bias)\n"
      ],
      "metadata": {
        "colab": {
          "base_uri": "https://localhost:8080/"
        },
        "id": "GXb_bf_B5qa_",
        "outputId": "61b79aea-5978-4c7e-ba99-4e76a1e03c8d"
      },
      "execution_count": 12,
      "outputs": [
        {
          "output_type": "stream",
          "name": "stdout",
          "text": [
            "[[-0.42137356 -0.39626666]\n",
            " [ 8.98554437  9.02992205]]\n",
            "[-4.19429251 -4.23156307]\n"
          ]
        }
      ]
    },
    {
      "cell_type": "code",
      "source": [
        "#predictions\n",
        "pred = np.array([0,1])\n",
        "result = np.dot(pred, weights) + bias\n",
        "res = sigmoid_func(result)\n",
        "\n",
        "print(res)"
      ],
      "metadata": {
        "colab": {
          "base_uri": "https://localhost:8080/"
        },
        "id": "O-yoA1te-fvy",
        "outputId": "b504ac94-c260-4782-af67-9160f8d9dbb9"
      },
      "execution_count": 13,
      "outputs": [
        {
          "output_type": "stream",
          "name": "stdout",
          "text": [
            "[0.9917663  0.99182413]\n"
          ]
        }
      ]
    },
    {
      "cell_type": "code",
      "source": [
        "#predictions\n",
        "pred = np.array([0,0])\n",
        "result = np.dot(pred, weights) + bias\n",
        "res = sigmoid_func(result)\n",
        "\n",
        "print(res)"
      ],
      "metadata": {
        "colab": {
          "base_uri": "https://localhost:8080/"
        },
        "id": "q09ekziy-xJ1",
        "outputId": "fc6d83c1-22c7-4d14-ce2d-ed337e3cca76"
      },
      "execution_count": 14,
      "outputs": [
        {
          "output_type": "stream",
          "name": "stdout",
          "text": [
            "[0.01485734 0.01432157]\n"
          ]
        }
      ]
    }
  ]
}